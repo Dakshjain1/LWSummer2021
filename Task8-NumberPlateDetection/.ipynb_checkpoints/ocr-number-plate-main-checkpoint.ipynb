{
 "cells": [
  {
   "cell_type": "code",
   "execution_count": null,
   "metadata": {},
   "outputs": [],
   "source": [
    "!pip install --upgrade azure-cognitiveservices-vision-computervision"
   ]
  },
  {
   "cell_type": "code",
   "execution_count": null,
   "metadata": {},
   "outputs": [],
   "source": [
    "!pip install pillow"
   ]
  },
  {
   "cell_type": "code",
   "execution_count": 1,
   "metadata": {},
   "outputs": [
    {
     "name": "stdout",
     "output_type": "stream",
     "text": [
      "Number Plate not found\n",
      "Number Plate not found\n",
      "Number Plate not found\n",
      "Number Plate not found\n",
      "Number Plate not found\n",
      "Number Plate not found\n",
      "Number Plate not found\n",
      "Collecting Samples Complete\n"
     ]
    },
    {
     "data": {
      "text/plain": [
       "{'ResponseMetadata': {'RequestId': 'D9975WVHRCYMAT27',\n",
       "  'HostId': 'yQpgwC8XIUU5IydOVjoxXX4m2YHvAICgWDMQSbYls0ozmr86QPt/QhGStCkMelvGm35HmVXhxFE=',\n",
       "  'HTTPStatusCode': 200,\n",
       "  'HTTPHeaders': {'x-amz-id-2': 'yQpgwC8XIUU5IydOVjoxXX4m2YHvAICgWDMQSbYls0ozmr86QPt/QhGStCkMelvGm35HmVXhxFE=',\n",
       "   'x-amz-request-id': 'D9975WVHRCYMAT27',\n",
       "   'date': 'Wed, 30 Jun 2021 17:40:58 GMT',\n",
       "   'server': 'AmazonS3',\n",
       "   'content-length': '0'},\n",
       "  'RetryAttempts': 0}}"
      ]
     },
     "execution_count": 1,
     "metadata": {},
     "output_type": "execute_result"
    }
   ],
   "source": [
    "# part 1 - captures the photo of number plate\n",
    "import cv2\n",
    "import numpy as np\n",
    "\n",
    "# Load HAAR face classifier for number plate\n",
    "face_classifier = cv2.CascadeClassifier('indian_license_plate.xml')\n",
    "\n",
    "# Load functions\n",
    "def face_extractor(img):\n",
    "    # Function detects faces and returns the cropped face\n",
    "    # If no face detected, it returns the input image  \n",
    "    gray = cv2.cvtColor(img,cv2.COLOR_BGR2GRAY)\n",
    "    faces = face_classifier.detectMultiScale(gray, 1.3, 5)\n",
    "    \n",
    "    if faces is ():\n",
    "        return None\n",
    "    \n",
    "    # Crop all faces found\n",
    "    for (x,y,w,h) in faces:\n",
    "        cropped_face = img[y:y+h, x:x+w]\n",
    "\n",
    "    return cropped_face\n",
    "\n",
    "# Initialize Webcam\n",
    "cap = cv2.VideoCapture(0)\n",
    "count = 0\n",
    "\n",
    "while True:\n",
    "\n",
    "    ret, frame = cap.read()\n",
    "    if ret==True:\n",
    "        frame = cv2.flip(frame,1)\n",
    "        \n",
    "    if face_extractor(frame) is not None:\n",
    "        count += 1\n",
    "        face = cv2.resize(face_extractor(frame), (300, 300))\n",
    "        face = cv2.cvtColor(face, cv2.COLOR_BGR2GRAY)\n",
    "        face = cv2.flip(face, 1)\n",
    "        # Save file in specified directory with unique name\n",
    "        file_name_path = './azureplates/plates/IMG_TEST_' + str(count) + '.jpeg'\n",
    "        cv2.imwrite(file_name_path, face)\n",
    "        # Put count on images and display live count\n",
    "        cv2.putText(face, str(count), (50, 50), cv2.FONT_HERSHEY_COMPLEX, 1, (0,255,0), 2)\n",
    "        cv2.imshow('Number Plate Cropper', face)\n",
    "        \n",
    "    else:\n",
    "        print(\"Number Plate not found\")\n",
    "        pass\n",
    "\n",
    "    if cv2.waitKey(1) == 13 or count == 9: #13 is the Enter Key\n",
    "        break\n",
    "        \n",
    "cap.release()\n",
    "cv2.destroyAllWindows()      \n",
    "print(\"Collecting Samples Complete\")\n",
    "\n",
    "import boto3\n",
    "s3 = boto3.client('s3')\n",
    "bucket = 'task8summerbucket'\n",
    "file_name = './azureplates/plates/IMG_TEST_5.jpeg'\n",
    "key_name = 'image1.jpg'\n",
    "s3.upload_file(file_name, bucket, key_name)\n",
    "boto3.resource('s3').ObjectAcl('task8summerbucket','image1.jpg').put(ACL='public-read')\n",
    "# now a photo of number plate is saved in aws bucket for ocr read by azure cv"
   ]
  },
  {
   "cell_type": "code",
   "execution_count": 2,
   "metadata": {},
   "outputs": [],
   "source": [
    "from azure.cognitiveservices.vision.computervision import ComputerVisionClient\n",
    "from azure.cognitiveservices.vision.computervision.models import OperationStatusCodes\n",
    "from azure.cognitiveservices.vision.computervision.models import VisualFeatureTypes\n",
    "from msrest.authentication import CognitiveServicesCredentials\n",
    "\n",
    "from array import array\n",
    "import os\n",
    "from PIL import Image\n",
    "import sys\n",
    "import time\n",
    "\n",
    "'''\n",
    "Authenticate\n",
    "Authenticates your credentials and creates a client.\n",
    "'''\n",
    "subscription_key = \"~your azure cognitive svc key~\"\n",
    "endpoint = \"~endpoint of the cognitive service~\""
   ]
  },
  {
   "cell_type": "code",
   "execution_count": 3,
   "metadata": {},
   "outputs": [],
   "source": [
    "computervision_client = ComputerVisionClient(endpoint, CognitiveServicesCredentials(subscription_key))"
   ]
  },
  {
   "cell_type": "code",
   "execution_count": 4,
   "metadata": {},
   "outputs": [
    {
     "name": "stdout",
     "output_type": "stream",
     "text": [
      "===== Read File - remote =====\n"
     ]
    }
   ],
   "source": [
    "'''\n",
    "OCR: Read File using the Read API, extract text - remote\n",
    "This example will extract text in an image, then print results, line by line.\n",
    "This API call can also extract handwriting style text (not shown).\n",
    "'''\n",
    "print(\"===== Read File - remote =====\")\n",
    "# Get an image with text\n",
    "read_image_url = \"https://github.com/Dakshjain1/LWSummer2021/raw/main/1.jpeg\"\n",
    "\n",
    "# Call API with URL and raw response (allows you to get the operation location)\n",
    "read_response = computervision_client.read(read_image_url,  raw=True)"
   ]
  },
  {
   "cell_type": "code",
   "execution_count": 5,
   "metadata": {},
   "outputs": [
    {
     "name": "stdout",
     "output_type": "stream",
     "text": [
      "UK 18\n",
      "[385.0, 84.0, 722.0, 79.0, 723.0, 191.0, 387.0, 197.0]\n",
      "IND\n",
      "[308.0, 197.0, 365.0, 196.0, 365.0, 223.0, 308.0, 222.0]\n",
      "F2838\n",
      "[364.0, 210.0, 772.0, 197.0, 776.0, 304.0, 368.0, 318.0]\n",
      "\n"
     ]
    }
   ],
   "source": [
    "# Get the operation location (URL with an ID at the end) from the response\n",
    "read_operation_location = read_response.headers[\"Operation-Location\"]\n",
    "# Grab the ID from the URL\n",
    "operation_id = read_operation_location.split(\"/\")[-1]\n",
    "\n",
    "# Call the \"GET\" API and wait for it to retrieve the results \n",
    "while True:\n",
    "    read_result = computervision_client.get_read_result(operation_id)\n",
    "    if read_result.status not in ['notStarted', 'running']:\n",
    "        break\n",
    "    time.sleep(1)\n",
    "\n",
    "# Print the detected text, line by line\n",
    "if read_result.status == OperationStatusCodes.succeeded:\n",
    "    for text_result in read_result.analyze_result.read_results:\n",
    "        for line in text_result.lines:\n",
    "            print(line.text)\n",
    "            print(line.bounding_box)\n",
    "print()"
   ]
  },
  {
   "cell_type": "code",
   "execution_count": null,
   "metadata": {},
   "outputs": [],
   "source": []
  }
 ],
 "metadata": {
  "kernelspec": {
   "display_name": "Python 3",
   "language": "python",
   "name": "python3"
  },
  "language_info": {
   "codemirror_mode": {
    "name": "ipython",
    "version": 3
   },
   "file_extension": ".py",
   "mimetype": "text/x-python",
   "name": "python",
   "nbconvert_exporter": "python",
   "pygments_lexer": "ipython3",
   "version": "3.7.6"
  }
 },
 "nbformat": 4,
 "nbformat_minor": 4
}
